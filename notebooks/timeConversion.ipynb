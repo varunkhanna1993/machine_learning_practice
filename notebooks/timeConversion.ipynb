{
 "cells": [
  {
   "cell_type": "code",
   "execution_count": 37,
   "metadata": {},
   "outputs": [],
   "source": [
    "#!/bin/python3\n",
    "\n",
    "import math\n",
    "import os\n",
    "import random\n",
    "import re\n",
    "import sys\n",
    "\n",
    "#\n",
    "# Complete the 'timeConversion' function below.\n",
    "#\n",
    "# The function is expected to return a STRING.\n",
    "# The function accepts STRING s as parameter.\n",
    "#\n",
    "\n",
    "def timeConversion(s):\n",
    "    # Write your code here\n",
    "    if s.__contains__(\"PM\"):\n",
    "        if s[0:2] != '12':\n",
    "            t = str(12+int(s[0:2])) + s[2:8]\n",
    "        else:\n",
    "            t = s[:8]\n",
    "    else:\n",
    "        if s[0:2] != '12':\n",
    "            t = s[:8]\n",
    "        else:\n",
    "            t = str(0) + str(0) +s[2:8]\n",
    "    print(t)\n",
    "\n",
    "\n",
    "# if __name__ == '__main__':\n",
    "#     fptr = open(os.environ['OUTPUT_PATH'], 'w')\n",
    "\n",
    "#     s = input()\n",
    "\n",
    "#     result = timeConversion(s)\n",
    "\n",
    "#     fptr.write(result + '\\n')\n",
    "\n",
    "#     fptr.close()\n"
   ]
  },
  {
   "cell_type": "code",
   "execution_count": 40,
   "metadata": {},
   "outputs": [],
   "source": [
    "s = \"07:05:45PM\""
   ]
  },
  {
   "cell_type": "code",
   "execution_count": 41,
   "metadata": {},
   "outputs": [
    {
     "name": "stdout",
     "output_type": "stream",
     "text": [
      "19:05:45\n"
     ]
    }
   ],
   "source": [
    "timeConversion(s)\n"
   ]
  },
  {
   "cell_type": "code",
   "execution_count": 9,
   "metadata": {},
   "outputs": [
    {
     "ename": "TypeError",
     "evalue": "unsupported operand type(s) for +: 'int' and 'str'",
     "output_type": "error",
     "traceback": [
      "\u001b[0;31m---------------------------------------------------------------------------\u001b[0m",
      "\u001b[0;31mTypeError\u001b[0m                                 Traceback (most recent call last)",
      "\u001b[1;32m/Users/varunkhanna/Desktop/Personal Development/machine_learning_practice/machine_learning_practice/notebooks/timeConversion.ipynb Cell 4'\u001b[0m in \u001b[0;36m<cell line: 1>\u001b[0;34m()\u001b[0m\n\u001b[0;32m----> <a href='vscode-notebook-cell:/Users/varunkhanna/Desktop/Personal%20Development/machine_learning_practice/machine_learning_practice/notebooks/timeConversion.ipynb#ch0000003?line=0'>1</a>\u001b[0m timeConversion(s)\n",
      "\u001b[1;32m/Users/varunkhanna/Desktop/Personal Development/machine_learning_practice/machine_learning_practice/notebooks/timeConversion.ipynb Cell 1'\u001b[0m in \u001b[0;36mtimeConversion\u001b[0;34m(s)\u001b[0m\n\u001b[1;32m     <a href='vscode-notebook-cell:/Users/varunkhanna/Desktop/Personal%20Development/machine_learning_practice/machine_learning_practice/notebooks/timeConversion.ipynb#ch0000000?line=17'>18</a>\u001b[0m \u001b[39mif\u001b[39;00m s\u001b[39m.\u001b[39m\u001b[39m__contains__\u001b[39m(\u001b[39m\"\u001b[39m\u001b[39mPM\u001b[39m\u001b[39m\"\u001b[39m):\n\u001b[1;32m     <a href='vscode-notebook-cell:/Users/varunkhanna/Desktop/Personal%20Development/machine_learning_practice/machine_learning_practice/notebooks/timeConversion.ipynb#ch0000000?line=18'>19</a>\u001b[0m     \u001b[39mif\u001b[39;00m s[\u001b[39m0\u001b[39m:\u001b[39m1\u001b[39m] \u001b[39m!=\u001b[39m \u001b[39m'\u001b[39m\u001b[39m12\u001b[39m\u001b[39m'\u001b[39m:\n\u001b[0;32m---> <a href='vscode-notebook-cell:/Users/varunkhanna/Desktop/Personal%20Development/machine_learning_practice/machine_learning_practice/notebooks/timeConversion.ipynb#ch0000000?line=19'>20</a>\u001b[0m         t \u001b[39m=\u001b[39m \u001b[39m12\u001b[39;49m\u001b[39m+\u001b[39;49m\u001b[39mint\u001b[39;49m(s[\u001b[39m0\u001b[39;49m:\u001b[39m1\u001b[39;49m])\u001b[39m+\u001b[39;49ms[\u001b[39m2\u001b[39;49m:]\n",
      "\u001b[0;31mTypeError\u001b[0m: unsupported operand type(s) for +: 'int' and 'str'"
     ]
    }
   ],
   "source": [
    "timeConversion(s)"
   ]
  },
  {
   "cell_type": "code",
   "execution_count": 43,
   "metadata": {},
   "outputs": [
    {
     "data": {
      "text/plain": [
       "4"
      ]
     },
     "execution_count": 43,
     "metadata": {},
     "output_type": "execute_result"
    }
   ],
   "source": [
    "round(7/2)"
   ]
  },
  {
   "cell_type": "code",
   "execution_count": null,
   "metadata": {},
   "outputs": [],
   "source": []
  }
 ],
 "metadata": {
  "interpreter": {
   "hash": "bf88bdbc12eff4b922a03c1bee9e62fcc24af1920832ae0f6e676acc4e3c3412"
  },
  "kernelspec": {
   "display_name": "Python 3.9.6 ('practice')",
   "language": "python",
   "name": "python3"
  },
  "language_info": {
   "codemirror_mode": {
    "name": "ipython",
    "version": 3
   },
   "file_extension": ".py",
   "mimetype": "text/x-python",
   "name": "python",
   "nbconvert_exporter": "python",
   "pygments_lexer": "ipython3",
   "version": "3.9.6"
  },
  "orig_nbformat": 4
 },
 "nbformat": 4,
 "nbformat_minor": 2
}
