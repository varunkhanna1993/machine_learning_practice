{
 "cells": [
  {
   "cell_type": "markdown",
   "metadata": {},
   "source": [
    "## ODD Even Jump \n",
    "You are given an integer array arr. From some starting index, you can make a series of jumps. The (1st, 3rd, 5th, ...) jumps in the series are called odd-numbered jumps, and the (2nd, 4th, 6th, ...) jumps in the series are called even-numbered jumps. Note that the jumps are numbered, not the indices.\n",
    "\n",
    "You may jump forward from index i to index j (with i < j) in the following way:\n",
    "\n",
    "During odd-numbered jumps (i.e., jumps 1, 3, 5, ...), you jump to the index j such that arr[i] <= arr[j] and arr[j] is the smallest possible value. If there are multiple such indices j, you can only jump to the smallest such index j.\n",
    "During even-numbered jumps (i.e., jumps 2, 4, 6, ...), you jump to the index j such that arr[i] >= arr[j] and arr[j] is the largest possible value. If there are multiple such indices j, you can only jump to the smallest such index j.\n",
    "It may be the case that for some index i, there are no legal jumps.\n",
    "A starting index is good if, starting from that index, you can reach the end of the array (index arr.length - 1) by jumping some number of times (possibly 0 or more than once).\n",
    "\n",
    "Return the number of good starting indices.\n",
    "\n"
   ]
  },
  {
   "cell_type": "markdown",
   "metadata": {},
   "source": [
    "## Example"
   ]
  },
  {
   "cell_type": "markdown",
   "metadata": {},
   "source": [
    "Input: arr = [10,13,12,14,15]\n",
    "Output: 2\n",
    "Explanation: \n",
    "From starting index i = 0, we can make our 1st jump to i = 2 (since arr[2] is the smallest among arr[1], arr[2], arr[3], arr[4] that is greater or equal to arr[0]), then we cannot jump any more.\n",
    "From starting index i = 1 and i = 2, we can make our 1st jump to i = 3, then we cannot jump any more.\n",
    "From starting index i = 3, we can make our 1st jump to i = 4, so we have reached the end.\n",
    "From starting index i = 4, we have reached the end already.\n",
    "In total, there are 2 different starting indices i = 3 and i = 4, where we can reach the end with some number of\n",
    "jumps.\n",
    "\n",
    "--------------------------------------------------------------------------------------\n",
    "\n",
    "Input: arr = [2,3,1,1,4]\n",
    "Output: 3\n",
    "Explanation: \n",
    "From starting index i = 0, we make jumps to i = 1, i = 2, i = 3:\n",
    "During our 1st jump (odd-numbered), we first jump to i = 1 because arr[1] is the smallest value in [arr[1], arr[2], arr[3], arr[4]] that is greater than or equal to arr[0].\n",
    "During our 2nd jump (even-numbered), we jump from i = 1 to i = 2 because arr[2] is the largest value in [arr[2], arr[3], arr[4]] that is less than or equal to arr[1]. arr[3] is also the largest value, but 2 is a smaller index, so we can only jump to i = 2 and not i = 3\n",
    "During our 3rd jump (odd-numbered), we jump from i = 2 to i = 3 because arr[3] is the smallest value in [arr[3], arr[4]] that is greater than or equal to arr[2].\n",
    "We can't jump from i = 3 to i = 4, so the starting index i = 0 is not good.\n",
    "In a similar manner, we can deduce that:\n",
    "From starting index i = 1, we jump to i = 4, so we reach the end.\n",
    "From starting index i = 2, we jump to i = 3, and then we can't jump anymore.\n",
    "From starting index i = 3, we jump to i = 4, so we reach the end.\n",
    "From starting index i = 4, we are already at the end.\n",
    "In total, there are 3 different starting indices i = 1, i = 3, and i = 4, where we can reach the end with some\n",
    "number of jumps.\n",
    "\n",
    "----------------------------------------------------------------------------------\n",
    "Input: arr = [5,1,3,4,2]\n",
    "Output: 3\n",
    "Explanation: We can reach the end from starting indices 1, 2, and 4."
   ]
  },
  {
   "cell_type": "markdown",
   "metadata": {},
   "source": [
    "## constraints\n",
    "Constraints:\n",
    "\n",
    "1 <= arr.length <= 2 * 104\n",
    "0 <= arr[i] < 105"
   ]
  },
  {
   "cell_type": "markdown",
   "metadata": {},
   "source": [
    "## Solution"
   ]
  },
  {
   "cell_type": "code",
   "execution_count": 3,
   "metadata": {},
   "outputs": [],
   "source": [
    "class Solution:\n",
    "    def oddEvenJumps(self,arr) -> int:\n",
    "        pass"
   ]
  },
  {
   "cell_type": "code",
   "execution_count": null,
   "metadata": {},
   "outputs": [],
   "source": []
  }
 ],
 "metadata": {
  "interpreter": {
   "hash": "bf88bdbc12eff4b922a03c1bee9e62fcc24af1920832ae0f6e676acc4e3c3412"
  },
  "kernelspec": {
   "display_name": "Python 3.9.6 ('practice')",
   "language": "python",
   "name": "python3"
  },
  "language_info": {
   "codemirror_mode": {
    "name": "ipython",
    "version": 3
   },
   "file_extension": ".py",
   "mimetype": "text/x-python",
   "name": "python",
   "nbconvert_exporter": "python",
   "pygments_lexer": "ipython3",
   "version": "3.9.6"
  },
  "orig_nbformat": 4
 },
 "nbformat": 4,
 "nbformat_minor": 2
}
