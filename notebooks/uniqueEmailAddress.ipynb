{
 "cells": [
  {
   "cell_type": "markdown",
   "metadata": {},
   "source": [
    "## Problem Statement\n",
    "Every valid email consists of a local name and a domain name, separated by the '@' sign. Besides lowercase letters, the email may contain one or more '.' or '+'.\n",
    "\n",
    "For example, in \"alice@leetcode.com\", \"alice\" is the local name, and \"leetcode.com\" is the domain name.\n",
    "If you add periods '.' between some characters in the local name part of an email address, mail sent there will be forwarded to the same address without dots in the local name. Note that this rule does not apply to domain names.\n",
    "\n",
    "For example, \"alice.z@leetcode.com\" and \"alicez@leetcode.com\" forward to the same email address.\n",
    "If you add a plus '+' in the local name, everything after the first plus sign will be ignored. This allows certain emails to be filtered. Note that this rule does not apply to domain names.\n",
    "\n",
    "For example, \"m.y+name@email.com\" will be forwarded to \"my@email.com\".\n",
    "It is possible to use both of these rules at the same time.\n",
    "\n",
    "Given an array of strings emails where we send one email to each emails[i], return the number of different addresses that actually receive mails.\n",
    "\n"
   ]
  },
  {
   "cell_type": "markdown",
   "metadata": {},
   "source": [
    "## constraints\n",
    "1 <= emails.length <= 100\n",
    "1 <= emails[i].length <= 100\n",
    "emails[i] consist of lowercase English letters, '+', '.' and '@'.\n",
    "Each emails[i] contains exactly one '@' character.\n",
    "All local and domain names are non-empty.\n",
    "Local names do not start with a '+' character.\n",
    "Domain names end with the \".com\" suffix."
   ]
  },
  {
   "cell_type": "markdown",
   "metadata": {},
   "source": [
    "## Solution"
   ]
  },
  {
   "cell_type": "code",
   "execution_count": 19,
   "metadata": {},
   "outputs": [],
   "source": [
    "emails = [\"a@leetcode.com\",\"b@leetcode.com\",\"c@leetcode.com\"]"
   ]
  },
  {
   "cell_type": "code",
   "execution_count": 31,
   "metadata": {},
   "outputs": [],
   "source": [
    "class Solution:\n",
    "\n",
    "    def numUniqueEmails(self, emails):\n",
    "        receive_emails = 0\n",
    "        final_list = []\n",
    "        for i in emails:\n",
    "            unique_email_one = i\n",
    "            split_ = str(unique_email_one).split('@')\n",
    "            name = split_[0]\n",
    "            domain = split_[1]\n",
    "            name = name.split('+')[0].replace(\".\", \"\")\n",
    "            email_proc = name +\"@\"+domain\n",
    "\n",
    "            final_list.append(email_proc)\n",
    "            \n",
    "            # unique list \n",
    "                       # initialize a null list\n",
    "            unique_list = []\n",
    "\n",
    "            # traverse for all elements\n",
    "        for x in final_list:\n",
    "            # check if exists in unique_list or not\n",
    "            if x not in unique_list:\n",
    "                unique_list.append(x)\n",
    "\n",
    "        return len(unique_list)\n",
    "    "
   ]
  },
  {
   "cell_type": "code",
   "execution_count": 32,
   "metadata": {},
   "outputs": [
    {
     "data": {
      "text/plain": [
       "3"
      ]
     },
     "execution_count": 32,
     "metadata": {},
     "output_type": "execute_result"
    }
   ],
   "source": [
    "Solution().numUniqueEmails(emails )"
   ]
  },
  {
   "cell_type": "code",
   "execution_count": null,
   "metadata": {},
   "outputs": [],
   "source": []
  }
 ],
 "metadata": {
  "interpreter": {
   "hash": "bf88bdbc12eff4b922a03c1bee9e62fcc24af1920832ae0f6e676acc4e3c3412"
  },
  "kernelspec": {
   "display_name": "Python 3.9.6 ('practice')",
   "language": "python",
   "name": "python3"
  },
  "language_info": {
   "codemirror_mode": {
    "name": "ipython",
    "version": 3
   },
   "file_extension": ".py",
   "mimetype": "text/x-python",
   "name": "python",
   "nbconvert_exporter": "python",
   "pygments_lexer": "ipython3",
   "version": "3.9.6"
  },
  "orig_nbformat": 4
 },
 "nbformat": 4,
 "nbformat_minor": 2
}
